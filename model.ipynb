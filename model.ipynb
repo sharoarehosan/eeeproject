{
 "cells": [
  {
   "cell_type": "code",
   "execution_count": 3,
   "metadata": {},
   "outputs": [
    {
     "name": "stdout",
     "output_type": "stream",
     "text": [
      "Files have been split into train and test folders.\n"
     ]
    }
   ],
   "source": [
    "import os\n",
    "import shutil\n",
    "import random\n",
    "\n",
    "# Paths\n",
    "source_folder = \"sec10\"\n",
    "train_folder = \"train\"\n",
    "test_folder = \"test\"\n",
    "\n",
    "# Create train and test folders if they don't exist\n",
    "os.makedirs(train_folder, exist_ok=True)\n",
    "os.makedirs(test_folder, exist_ok=True)\n",
    "\n",
    "# Iterate over each folder inside the source folder\n",
    "for folder_name in os.listdir(source_folder):\n",
    "    folder_path = os.path.join(source_folder, folder_name)\n",
    "    \n",
    "    # Ensure it's a directory\n",
    "    if os.path.isdir(folder_path):\n",
    "        # Get all audio files in the folder\n",
    "        audio_files = [f for f in os.listdir(folder_path) if os.path.isfile(os.path.join(folder_path, f))]\n",
    "        random.shuffle(audio_files)\n",
    "        \n",
    "        # Split files into 80% train and 20% test\n",
    "        split_index = int(len(audio_files) * 0.8)\n",
    "        train_files = audio_files[:split_index]\n",
    "        test_files = audio_files[split_index:]\n",
    "        \n",
    "        # Create corresponding subfolders in train and test directories\n",
    "        train_subfolder = os.path.join(train_folder, folder_name)\n",
    "        test_subfolder = os.path.join(test_folder, folder_name)\n",
    "        os.makedirs(train_subfolder, exist_ok=True)\n",
    "        os.makedirs(test_subfolder, exist_ok=True)\n",
    "        \n",
    "        # Move files to train folder\n",
    "        for file_name in train_files:\n",
    "            shutil.copy(os.path.join(folder_path, file_name), os.path.join(train_subfolder, file_name))\n",
    "        \n",
    "        # Move files to test folder\n",
    "        for file_name in test_files:\n",
    "            shutil.copy(os.path.join(folder_path, file_name), os.path.join(test_subfolder, file_name))\n",
    "\n",
    "print(\"Files have been split into train and test folders.\")\n"
   ]
  },
  {
   "cell_type": "code",
   "execution_count": 1,
   "metadata": {},
   "outputs": [],
   "source": [
    "import os\n",
    "import librosa\n",
    "import numpy as np\n",
    "from sklearn.preprocessing import LabelEncoder, StandardScaler\n",
    "from sklearn.ensemble import RandomForestClassifier\n",
    "from sklearn.metrics import classification_report\n",
    "import pickle\n"
   ]
  },
  {
   "cell_type": "code",
   "execution_count": 2,
   "metadata": {},
   "outputs": [
    {
     "name": "stderr",
     "output_type": "stream",
     "text": [
      "c:\\Users\\Asus\\anaconda3\\Lib\\site-packages\\librosa\\core\\pitch.py:101: UserWarning: Trying to estimate tuning from empty frequency set.\n",
      "  return pitch_tuning(\n"
     ]
    }
   ],
   "source": [
    "# Paths\n",
    "train_folder = \"train\"  # Path to your train folder\n",
    "\n",
    "# Initialize lists\n",
    "features = []\n",
    "labels = []\n",
    "\n",
    "# Function to extract manual features\n",
    "def extract_manual_features(file_path):\n",
    "    try:\n",
    "        audio, sr = librosa.load(file_path, sr=None)\n",
    "        \n",
    "        # Extract Zero Crossing Rate\n",
    "        zcr = librosa.feature.zero_crossing_rate(audio)\n",
    "        zcr_mean = np.mean(zcr)\n",
    "        \n",
    "        # Extract Spectral Centroid\n",
    "        spectral_centroid = librosa.feature.spectral_centroid(y=audio, sr=sr)\n",
    "        spectral_centroid_mean = np.mean(spectral_centroid)\n",
    "        \n",
    "        # Extract Chroma Feature\n",
    "        chroma = librosa.feature.chroma_stft(y=audio, sr=sr)\n",
    "        chroma_mean = np.mean(chroma)\n",
    "        \n",
    "        # Extract MFCC (Mel-Frequency Cepstral Coefficients)\n",
    "        mfcc = librosa.feature.mfcc(y=audio, sr=sr, n_mfcc=13)\n",
    "        mfcc_mean = np.mean(mfcc.T, axis=0)\n",
    "        \n",
    "        # Extract Root Mean Square (RMS) Energy\n",
    "        rms = librosa.feature.rms(y=audio)\n",
    "        rms_mean = np.mean(rms)\n",
    "        \n",
    "        # Return all features as a single array\n",
    "        return [zcr_mean, spectral_centroid_mean, chroma_mean] + list(mfcc_mean) + [rms_mean]\n",
    "    \n",
    "    except Exception as e:\n",
    "        print(f\"Error processing {file_path}: {e}\")\n",
    "        return None\n",
    "\n",
    "# Loop through folders\n",
    "for folder_name in os.listdir(train_folder):\n",
    "    folder_path = os.path.join(train_folder, folder_name)\n",
    "    if os.path.isdir(folder_path):\n",
    "        for file_name in os.listdir(folder_path):\n",
    "            file_path = os.path.join(folder_path, file_name)\n",
    "            if file_name.endswith(\".wav\"):  # Ensure only .wav files are processed\n",
    "                feature = extract_manual_features(file_path)\n",
    "                if feature is not None:\n",
    "                    features.append(feature)\n",
    "                    labels.append(folder_name)\n",
    "\n",
    "# Encode labels\n",
    "encoder = LabelEncoder()\n",
    "encoded_labels = encoder.fit_transform(labels)\n",
    "\n",
    "# Standardize features\n",
    "scaler = StandardScaler()\n",
    "features = scaler.fit_transform(features)\n",
    "\n",
    "# Now features and labels are ready for training\n"
   ]
  },
  {
   "cell_type": "code",
   "execution_count": 3,
   "metadata": {},
   "outputs": [],
   "source": [
    "from sklearn.svm import SVC\n",
    "from sklearn.metrics import confusion_matrix, classification_report, accuracy_score\n",
    "import matplotlib.pyplot as plt\n",
    "import seaborn as sns\n",
    "import pickle"
   ]
  },
  {
   "cell_type": "code",
   "execution_count": 4,
   "metadata": {},
   "outputs": [
    {
     "name": "stdout",
     "output_type": "stream",
     "text": [
      "SVM Model training complete and saved.\n"
     ]
    }
   ],
   "source": [
    "# Train an SVM Classifier\n",
    "svm_model = SVC(kernel='linear', random_state=42)  # You can try 'rbf' kernel for non-linear problems\n",
    "svm_model.fit(features, encoded_labels)\n",
    "\n",
    "# Save the model and encoder for future use\n",
    "with open(\"lung_sound_svm_model.pkl\", \"wb\") as model_file:\n",
    "    pickle.dump(svm_model, model_file)\n",
    "\n",
    "with open(\"label_encoder.pkl\", \"wb\") as encoder_file:\n",
    "    pickle.dump(encoder, encoder_file)\n",
    "\n",
    "# Save the scaler for future use\n",
    "with open(\"scaler.pkl\", \"wb\") as scaler_file:\n",
    "    pickle.dump(scaler, scaler_file)\n",
    "\n",
    "print(\"SVM Model training complete and saved.\")\n"
   ]
  },
  {
   "cell_type": "code",
   "execution_count": 21,
   "metadata": {},
   "outputs": [
    {
     "name": "stdout",
     "output_type": "stream",
     "text": [
      "Accuracy:  0.5394190871369294\n",
      "\n",
      "Classification Report:\n",
      "                precision    recall  f1-score   support\n",
      "\n",
      "     asthmaout       0.50      0.60      0.54        72\n",
      "       bronout       1.00      1.00      1.00         4\n",
      "       copdout       0.62      0.38      0.47        21\n",
      "   effusionout       0.00      0.00      0.00         4\n",
      "   fibrosisout       1.00      0.29      0.44         7\n",
      "heartfailurout       0.47      0.21      0.29        43\n",
      "     normalout       0.53      0.74      0.62        81\n",
      "  pneumoniaout       1.00      0.44      0.62         9\n",
      "\n",
      "      accuracy                           0.54       241\n",
      "     macro avg       0.64      0.46      0.50       241\n",
      "  weighted avg       0.55      0.54      0.52       241\n",
      "\n",
      "\n",
      "Confusion Matrix:\n",
      "[[43  0  0  0  0  3 26  0]\n",
      " [ 0  4  0  0  0  0  0  0]\n",
      " [ 8  0  8  0  0  0  5  0]\n",
      " [ 1  0  0  0  0  0  3  0]\n",
      " [ 4  0  0  0  2  0  1  0]\n",
      " [15  0  1  0  0  9 18  0]\n",
      " [11  0  4  0  0  6 60  0]\n",
      " [ 4  0  0  0  0  1  0  4]]\n"
     ]
    },
    {
     "name": "stderr",
     "output_type": "stream",
     "text": [
      "c:\\Users\\Asus\\anaconda3\\Lib\\site-packages\\sklearn\\metrics\\_classification.py:1469: UndefinedMetricWarning: Precision and F-score are ill-defined and being set to 0.0 in labels with no predicted samples. Use `zero_division` parameter to control this behavior.\n",
      "  _warn_prf(average, modifier, msg_start, len(result))\n",
      "c:\\Users\\Asus\\anaconda3\\Lib\\site-packages\\sklearn\\metrics\\_classification.py:1469: UndefinedMetricWarning: Precision and F-score are ill-defined and being set to 0.0 in labels with no predicted samples. Use `zero_division` parameter to control this behavior.\n",
      "  _warn_prf(average, modifier, msg_start, len(result))\n",
      "c:\\Users\\Asus\\anaconda3\\Lib\\site-packages\\sklearn\\metrics\\_classification.py:1469: UndefinedMetricWarning: Precision and F-score are ill-defined and being set to 0.0 in labels with no predicted samples. Use `zero_division` parameter to control this behavior.\n",
      "  _warn_prf(average, modifier, msg_start, len(result))\n"
     ]
    },
    {
     "data": {
      "image/png": "[encoded data removed]",
      "text/plain": [
       "<Figure size 800x600 with 2 Axes>"
      ]
     },
     "metadata": {},
     "output_type": "display_data"
    }
   ],
   "source": [
    "def evaluate_model(features, labels):\n",
    "    # Load the model and encoder\n",
    "    with open(\"lung_sound_svm_model.pkl\", \"rb\") as model_file:\n",
    "        model = pickle.load(model_file)\n",
    "    with open(\"label_encoder.pkl\", \"rb\") as encoder_file:\n",
    "        encoder = pickle.load(encoder_file)\n",
    "    \n",
    "    # Make predictions\n",
    "    predictions = model.predict(features)\n",
    "    \n",
    "    # Decode the predictions\n",
    "    decoded_predictions = encoder.inverse_transform(predictions)\n",
    "    decoded_labels = encoder.inverse_transform(labels)\n",
    "    \n",
    "    # Calculate Accuracy\n",
    "    accuracy = accuracy_score(decoded_labels, decoded_predictions)\n",
    "    print(\"Accuracy: \", accuracy)\n",
    "    \n",
    "    # Generate and display classification report\n",
    "    print(\"\\nClassification Report:\")\n",
    "    print(classification_report(decoded_labels, decoded_predictions))\n",
    "    \n",
    "    # Generate confusion matrix\n",
    "    cm = confusion_matrix(decoded_labels, decoded_predictions)\n",
    "    print(\"\\nConfusion Matrix:\")\n",
    "    print(cm)\n",
    "    \n",
    "    # Plot confusion matrix using seaborn heatmap\n",
    "    plt.figure(figsize=(8, 6))\n",
    "    sns.heatmap(cm, annot=True, fmt=\"d\", cmap=\"Blues\", xticklabels=encoder.classes_, yticklabels=encoder.classes_)\n",
    "    plt.xlabel('Predicted Label')\n",
    "    plt.ylabel('True Label')\n",
    "    plt.title('Confusion Matrix')\n",
    "    plt.show()\n",
    "\n",
    "# Evaluate the model with the training data\n",
    "evaluate_model(features, encoded_labels)\n"
   ]
  },
  {
   "cell_type": "code",
   "execution_count": 23,
   "metadata": {},
   "outputs": [],
   "source": [
    "\n",
    "def predict(file_path):\n",
    "    # Load model, encoder, and scaler\n",
    "    with open(\"lung_sound_svm_model.pkl\", \"rb\") as model_file:\n",
    "        model = pickle.load(model_file)\n",
    "    with open(\"label_encoder.pkl\", \"rb\") as encoder_file:\n",
    "        encoder = pickle.load(encoder_file)\n",
    "    with open(\"scaler.pkl\", \"rb\") as scaler_file:\n",
    "        scaler = pickle.load(scaler_file)\n",
    "    \n",
    "    # Extract features\n",
    "    feature = extract_manual_features(file_path)\n",
    "    if feature is None:\n",
    "        return \"Error extracting features from audio.\"\n",
    "    \n",
    "    # Standardize features\n",
    "    feature = scaler.transform([feature])\n",
    "    \n",
    "    # Predict\n",
    "    prediction = model.predict(feature)\n",
    "    class_name = encoder.inverse_transform(prediction)\n",
    "    return class_name[0]\n"
   ]
  },
  {
   "cell_type": "code",
   "execution_count": 25,
   "metadata": {},
   "outputs": [
    {
     "name": "stderr",
     "output_type": "stream",
     "text": [
      "c:\\Users\\Asus\\anaconda3\\Lib\\site-packages\\librosa\\core\\pitch.py:101: UserWarning: Trying to estimate tuning from empty frequency set.\n",
      "  return pitch_tuning(\n"
     ]
    },
    {
     "data": {
      "text/plain": [
       "'normalout'"
      ]
     },
     "execution_count": 25,
     "metadata": {},
     "output_type": "execute_result"
    }
   ],
   "source": [
    "file_path='F:/EEEProject/test/asthmaout/BP68_asthma,E W,P R L ,21,F_middle10sec.wav'\n",
    "value=predict(file_path)\n",
    "value"
   ]
  }
 ],
 "metadata": {
  "kernelspec": {
   "display_name": "base",
   "language": "python",
   "name": "python3"
  },
  "language_info": {
   "codemirror_mode": {
    "name": "ipython",
    "version": 3
   },
   "file_extension": ".py",
   "mimetype": "text/x-python",
   "name": "python",
   "nbconvert_exporter": "python",
   "pygments_lexer": "ipython3",
   "version": "3.11.5"
  },
  "orig_nbformat": 4
 },
 "nbformat": 4,
 "nbformat_minor": 2
}
